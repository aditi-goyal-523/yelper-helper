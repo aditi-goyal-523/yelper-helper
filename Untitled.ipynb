{
 "cells": [
  {
   "cell_type": "code",
   "execution_count": 25,
   "id": "e01186bf",
   "metadata": {},
   "outputs": [],
   "source": [
    "import json\n",
    "import csv\n",
    "import pandas as pd\n",
    "import random\n",
    "\n",
    "import re\n",
    "\n",
    "from sklearn.preprocessing import LabelEncoder\n",
    "from sklearn.model_selection import train_test_split\n",
    "from sklearn.metrics import classification_report\n",
    "from sklearn.metrics import accuracy_score\n",
    "\n",
    "\n",
    "\n",
    "import math\n",
    "import nltk\n",
    "from sklearn.feature_extraction.text import CountVectorizer\n",
    "from collections import defaultdict\n"
   ]
  },
  {
   "cell_type": "code",
   "execution_count": 26,
   "id": "67f92e68",
   "metadata": {},
   "outputs": [],
   "source": [
    "from sklearn.naive_bayes import MultinomialNB"
   ]
  },
  {
   "cell_type": "code",
   "execution_count": 8,
   "id": "5af0c29c",
   "metadata": {},
   "outputs": [],
   "source": [
    "reviews=pd.read_json('restaurant_reviews_train.json')"
   ]
  },
  {
   "cell_type": "code",
   "execution_count": 17,
   "id": "fa4c36be",
   "metadata": {},
   "outputs": [
    {
     "name": "stdout",
     "output_type": "stream",
     "text": [
      "<class 'pandas.core.frame.DataFrame'>\n",
      "RangeIndex: 3280824 entries, 0 to 3280823\n",
      "Data columns (total 9 columns):\n",
      " #   Column       Dtype         \n",
      "---  ------       -----         \n",
      " 0   review_id    object        \n",
      " 1   user_id      object        \n",
      " 2   business_id  object        \n",
      " 3   stars        int64         \n",
      " 4   useful       int64         \n",
      " 5   funny        int64         \n",
      " 6   cool         int64         \n",
      " 7   text         object        \n",
      " 8   date         datetime64[ns]\n",
      "dtypes: datetime64[ns](1), int64(4), object(4)\n",
      "memory usage: 225.3+ MB\n"
     ]
    }
   ],
   "source": [
    "reviews.info()"
   ]
  },
  {
   "cell_type": "code",
   "execution_count": 21,
   "id": "3b862a78",
   "metadata": {},
   "outputs": [
    {
     "data": {
      "text/plain": [
       "(3280824, 9)"
      ]
     },
     "execution_count": 21,
     "metadata": {},
     "output_type": "execute_result"
    }
   ],
   "source": [
    "reviews['text'].head()\n",
    "reviews.shape"
   ]
  },
  {
   "cell_type": "code",
   "execution_count": 22,
   "id": "c341e4f6",
   "metadata": {},
   "outputs": [
    {
     "data": {
      "text/plain": [
       "(3280824, 9)"
      ]
     },
     "execution_count": 22,
     "metadata": {},
     "output_type": "execute_result"
    }
   ],
   "source": [
    "reviews.dropna(inplace=True) #remove all blank entries, seems like it was already done for us!\n",
    "reviews.shape"
   ]
  },
  {
   "cell_type": "code",
   "execution_count": null,
   "id": "fc408d0f",
   "metadata": {},
   "outputs": [],
   "source": [
    "star_ratings = reviews['stars']"
   ]
  },
  {
   "cell_type": "code",
   "execution_count": 52,
   "id": "50ee769a",
   "metadata": {},
   "outputs": [],
   "source": [
    "#vectorizer = CountVectorizer(stop_words='english')#Initialize the count vectorizer tool from nlp toolkit. This will get us word counts\n",
    "vectorizer = CountVectorizer()\n",
    "word_counts = vectorizer.fit_transform(reviews['text']) #transform our review text into a vector of word counts, that exclude general english words"
   ]
  },
  {
   "cell_type": "code",
   "execution_count": 53,
   "id": "24e6755c",
   "metadata": {},
   "outputs": [],
   "source": [
    "review_train,review_test,star_train,star_test=train_test_split(word_counts,star_ratings)"
   ]
  },
  {
   "cell_type": "code",
   "execution_count": 54,
   "id": "f51e19d2",
   "metadata": {},
   "outputs": [],
   "source": [
    "nb = MultinomialNB() #initialize a multinomial bayes model, for our 5 classes (1 star to 5 stars)\n",
    "nb_model=nb.fit(review_train,star_train)"
   ]
  },
  {
   "cell_type": "code",
   "execution_count": 55,
   "id": "39e3a932",
   "metadata": {},
   "outputs": [],
   "source": [
    "predicted_stars = nb_model.predict(review_test)\n",
    "nb_model.score(review_test,star_test)"
   ]
  },
  {
   "cell_type": "code",
   "execution_count": 57,
   "id": "5f2175db",
   "metadata": {},
   "outputs": [
    {
     "data": {
      "text/plain": [
       "array([ 296644.,  206690.,  278622.,  583716., 1094946.])"
      ]
     },
     "execution_count": 57,
     "metadata": {},
     "output_type": "execute_result"
    }
   ],
   "source": [
    "#evaluate model\n",
    "nb_model.class_count_"
   ]
  },
  {
   "cell_type": "code",
   "execution_count": 58,
   "id": "87c71a02",
   "metadata": {},
   "outputs": [
    {
     "name": "stdout",
     "output_type": "stream",
     "text": [
      "              precision    recall  f1-score   support\n",
      "\n",
      "           1       0.64      0.72      0.67     99144\n",
      "           2       0.36      0.32      0.34     68783\n",
      "           3       0.42      0.40      0.41     92792\n",
      "           4       0.51      0.47      0.49    194588\n",
      "           5       0.78      0.81      0.80    364899\n",
      "\n",
      "    accuracy                           0.63    820206\n",
      "   macro avg       0.54      0.54      0.54    820206\n",
      "weighted avg       0.62      0.63      0.63    820206\n",
      "\n"
     ]
    }
   ],
   "source": [
    "print(classification_report(star_test, predicted_stars))"
   ]
  },
  {
   "cell_type": "code",
   "execution_count": null,
   "id": "80a248f1",
   "metadata": {},
   "outputs": [],
   "source": [
    "#surprisingly, the model works better without accounting for stopwords. We believe this may be due to the short nature of the reviews"
   ]
  },
  {
   "cell_type": "code",
   "execution_count": 60,
   "id": "2b16cb3b",
   "metadata": {},
   "outputs": [],
   "source": [
    "from sklearn.ensemble import RandomForestClassifier"
   ]
  },
  {
   "cell_type": "code",
   "execution_count": null,
   "id": "04b92ec6",
   "metadata": {},
   "outputs": [],
   "source": [
    "rf = RandomForestClassifier(n_estimators=1000, random_state=0)\n",
    "rf_model=rf.fit(review_train, star_train) "
   ]
  },
  {
   "cell_type": "code",
   "execution_count": null,
   "id": "4e52e71e",
   "metadata": {},
   "outputs": [],
   "source": [
    "predicted_stars = rf_model.predict(review_test)\n",
    "rf_model.score(review_test,star_test)"
   ]
  },
  {
   "cell_type": "code",
   "execution_count": null,
   "id": "0a1b89e9",
   "metadata": {},
   "outputs": [],
   "source": [
    "print(classification_report(star_test, predicted_stars))"
   ]
  }
 ],
 "metadata": {
  "kernelspec": {
   "display_name": "Python 3 (ipykernel)",
   "language": "python",
   "name": "python3"
  },
  "language_info": {
   "codemirror_mode": {
    "name": "ipython",
    "version": 3
   },
   "file_extension": ".py",
   "mimetype": "text/x-python",
   "name": "python",
   "nbconvert_exporter": "python",
   "pygments_lexer": "ipython3",
   "version": "3.10.9"
  }
 },
 "nbformat": 4,
 "nbformat_minor": 5
}

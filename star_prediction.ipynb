{
 "cells": [
  {
   "cell_type": "code",
   "execution_count": 7,
   "id": "e01186bf",
   "metadata": {},
   "outputs": [],
   "source": [
    "import json\n",
    "import csv\n",
    "import pandas as pd\n",
    "import random\n",
    "\n",
    "import re\n",
    "\n",
    "from sklearn.preprocessing import LabelEncoder\n",
    "from sklearn.model_selection import train_test_split\n",
    "from sklearn.metrics import classification_report\n",
    "from sklearn.metrics import accuracy_score\n",
    "\n",
    "\n",
    "\n",
    "import math\n",
    "import nltk\n",
    "from sklearn.feature_extraction.text import CountVectorizer\n",
    "from collections import defaultdict\n",
    "\n",
    "from sklearn.naive_bayes import MultinomialNB\n",
    "\n",
    "import time\n",
    "\n",
    "from sklearn.datasets import make_classification\n",
    "from sklearn.linear_model import LogisticRegression\n",
    "from sklearn.preprocessing import StandardScaler\n",
    "from sklearn.svm import LinearSVC\n",
    "from sklearn.neighbors import KNeighborsClassifier\n",
    "from sklearn.ensemble import RandomForestClassifier"
   ]
  },
  {
   "cell_type": "markdown",
   "id": "7924049f",
   "metadata": {},
   "source": [
    "# Data Preprocessing"
   ]
  },
  {
   "cell_type": "code",
   "execution_count": 9,
   "id": "5af0c29c",
   "metadata": {},
   "outputs": [],
   "source": [
    "reviews=pd.read_json('restaurant_reviews.json')"
   ]
  },
  {
   "cell_type": "code",
   "execution_count": 10,
   "id": "fa4c36be",
   "metadata": {},
   "outputs": [
    {
     "name": "stdout",
     "output_type": "stream",
     "text": [
      "<class 'pandas.core.frame.DataFrame'>\n",
      "RangeIndex: 5126287 entries, 0 to 5126286\n",
      "Data columns (total 9 columns):\n",
      " #   Column       Dtype         \n",
      "---  ------       -----         \n",
      " 0   review_id    object        \n",
      " 1   user_id      object        \n",
      " 2   business_id  object        \n",
      " 3   stars        int64         \n",
      " 4   useful       int64         \n",
      " 5   funny        int64         \n",
      " 6   cool         int64         \n",
      " 7   text         object        \n",
      " 8   date         datetime64[ns]\n",
      "dtypes: datetime64[ns](1), int64(4), object(4)\n",
      "memory usage: 352.0+ MB\n"
     ]
    }
   ],
   "source": [
    "reviews.info()"
   ]
  },
  {
   "cell_type": "code",
   "execution_count": 11,
   "id": "c341e4f6",
   "metadata": {},
   "outputs": [
    {
     "data": {
      "text/plain": [
       "(5126287, 9)"
      ]
     },
     "execution_count": 11,
     "metadata": {},
     "output_type": "execute_result"
    }
   ],
   "source": [
    "reviews.dropna(inplace=True) #remove all blank entries, seems like it was already done for us!\n",
    "reviews.shape"
   ]
  },
  {
   "cell_type": "code",
   "execution_count": null,
   "id": "89d2248a",
   "metadata": {},
   "outputs": [],
   "source": []
  },
  {
   "cell_type": "code",
   "execution_count": null,
   "id": "c016f8a6",
   "metadata": {},
   "outputs": [],
   "source": [
    "# for computational tractability, we will use ~ 100K train reviews, and ~ 25K test reviews"
   ]
  },
  {
   "cell_type": "code",
   "execution_count": null,
   "id": "5dd93e82",
   "metadata": {},
   "outputs": [],
   "source": [
    "#reviews=reviews.head(250000)"
   ]
  },
  {
   "cell_type": "code",
   "execution_count": null,
   "id": "fc408d0f",
   "metadata": {},
   "outputs": [],
   "source": [
    "stars = reviews['stars']\n",
    "reviews = reviews['text']"
   ]
  },
  {
   "cell_type": "code",
   "execution_count": null,
   "id": "67a9c54b",
   "metadata": {},
   "outputs": [],
   "source": []
  },
  {
   "cell_type": "code",
   "execution_count": 8,
   "id": "50ee769a",
   "metadata": {},
   "outputs": [],
   "source": [
    "#Initialize the count vectorizer tool from nlp toolkit. This will get us word counts\n",
    "vectorizer = CountVectorizer()\n",
    "word_counts = vectorizer.fit_transform(reviews)"
   ]
  },
  {
   "cell_type": "code",
   "execution_count": 9,
   "id": "e4878612",
   "metadata": {},
   "outputs": [],
   "source": [
    "# scale word count results so our results are not biased\n",
    "scaler = StandardScaler(with_mean=False)\n",
    "X = scaler.fit_transform(word_counts)"
   ]
  },
  {
   "cell_type": "code",
   "execution_count": 10,
   "id": "4d26d2e0",
   "metadata": {},
   "outputs": [],
   "source": [
    "X_train = X[:200000, ]\n",
    "X_test = X[200000:, ]\n",
    "\n",
    "star_train=stars[:200000, ]\n",
    "star_test =stars[200000: , ]"
   ]
  },
  {
   "cell_type": "markdown",
   "id": "3106c65c",
   "metadata": {},
   "source": [
    "# final variables to be used\n",
    "\n",
    "X_train: contains normalized word count data for train reviews\n",
    "\n",
    "star_train: star ratings for train set\n",
    "\n",
    "X_test: contains normalized word count data for test reviews\n",
    "\n",
    "star_test: star ratings for test set"
   ]
  },
  {
   "cell_type": "markdown",
   "id": "f4506fde",
   "metadata": {},
   "source": [
    "## Multinomial Naive Bayes"
   ]
  },
  {
   "cell_type": "code",
   "execution_count": 11,
   "id": "f51e19d2",
   "metadata": {},
   "outputs": [
    {
     "name": "stdout",
     "output_type": "stream",
     "text": [
      "0.08050775527954102\n"
     ]
    }
   ],
   "source": [
    "start = time.time()\n",
    "nb = MultinomialNB() #initialize a multinomial bayes model, for our 5 classes (1 star to 5 stars)\n",
    "nb_model=nb.fit(X_train,star_train)\n",
    "end = time.time()\n",
    "print(end-start)"
   ]
  },
  {
   "cell_type": "code",
   "execution_count": 12,
   "id": "aeff9bbb",
   "metadata": {},
   "outputs": [
    {
     "name": "stdout",
     "output_type": "stream",
     "text": [
      "0.03065013885498047\n"
     ]
    }
   ],
   "source": [
    "start = time.time()\n",
    "predicted_stars = nb_model.predict(X_test)\n",
    "end = time.time()\n",
    "print(end-start)"
   ]
  },
  {
   "cell_type": "code",
   "execution_count": 13,
   "id": "5f2175db",
   "metadata": {},
   "outputs": [
    {
     "data": {
      "text/plain": [
       "array([19482., 17217., 24773., 54397., 84131.])"
      ]
     },
     "execution_count": 13,
     "metadata": {},
     "output_type": "execute_result"
    }
   ],
   "source": [
    "#evaluate model\n",
    "nb_model.class_count_"
   ]
  },
  {
   "cell_type": "code",
   "execution_count": 14,
   "id": "87c71a02",
   "metadata": {},
   "outputs": [
    {
     "name": "stdout",
     "output_type": "stream",
     "text": [
      "              precision    recall  f1-score   support\n",
      "\n",
      "           1       0.47      0.54      0.50      5406\n",
      "           2       0.19      0.37      0.26      4275\n",
      "           3       0.23      0.31      0.26      5991\n",
      "           4       0.38      0.33      0.35     12868\n",
      "           5       0.70      0.53      0.60     21460\n",
      "\n",
      "    accuracy                           0.44     50000\n",
      "   macro avg       0.39      0.42      0.40     50000\n",
      "weighted avg       0.49      0.44      0.46     50000\n",
      "\n"
     ]
    }
   ],
   "source": [
    "print(classification_report(star_test, predicted_stars))"
   ]
  },
  {
   "cell_type": "code",
   "execution_count": 15,
   "id": "80a248f1",
   "metadata": {},
   "outputs": [],
   "source": [
    "#surprisingly, the model works better without accounting for stopwords. We believe this may be due to the short nature of the reviews"
   ]
  },
  {
   "cell_type": "markdown",
   "id": "0602a3bf",
   "metadata": {},
   "source": [
    "## Support Vector Machines (Linear Boundary)"
   ]
  },
  {
   "cell_type": "code",
   "execution_count": 16,
   "id": "d50138e4",
   "metadata": {},
   "outputs": [
    {
     "name": "stdout",
     "output_type": "stream",
     "text": [
      "320.9903781414032\n"
     ]
    },
    {
     "name": "stderr",
     "output_type": "stream",
     "text": [
      "/Users/aditigo/miniconda3/lib/python3.10/site-packages/sklearn/svm/_base.py:1244: ConvergenceWarning: Liblinear failed to converge, increase the number of iterations.\n",
      "  warnings.warn(\n"
     ]
    }
   ],
   "source": [
    "start = time.time()\n",
    "svm=LinearSVC()\n",
    "svm.fit(X_train, star_train)\n",
    "end = time.time()\n",
    "print(end-start)"
   ]
  },
  {
   "cell_type": "code",
   "execution_count": 17,
   "id": "88d127c8",
   "metadata": {},
   "outputs": [
    {
     "name": "stdout",
     "output_type": "stream",
     "text": [
      "0.0410771369934082\n"
     ]
    }
   ],
   "source": [
    "start = time.time()\n",
    "predicted_stars = svm.predict(X_test)\n",
    "end = time.time()\n",
    "print(end-start)"
   ]
  },
  {
   "cell_type": "code",
   "execution_count": 18,
   "id": "b3269620",
   "metadata": {},
   "outputs": [],
   "source": [
    "#svm.class_count_"
   ]
  },
  {
   "cell_type": "code",
   "execution_count": 19,
   "id": "09008ebf",
   "metadata": {},
   "outputs": [
    {
     "name": "stdout",
     "output_type": "stream",
     "text": [
      "              precision    recall  f1-score   support\n",
      "\n",
      "           1       0.53      0.57      0.55      5406\n",
      "           2       0.28      0.24      0.26      4275\n",
      "           3       0.29      0.29      0.29      5991\n",
      "           4       0.40      0.39      0.39     12868\n",
      "           5       0.68      0.71      0.69     21460\n",
      "\n",
      "    accuracy                           0.52     50000\n",
      "   macro avg       0.44      0.44      0.44     50000\n",
      "weighted avg       0.51      0.52      0.52     50000\n",
      "\n"
     ]
    }
   ],
   "source": [
    "print(classification_report(star_test, predicted_stars))"
   ]
  },
  {
   "cell_type": "markdown",
   "id": "f03f9de5",
   "metadata": {},
   "source": [
    "## MultiClass Logistic Regression"
   ]
  },
  {
   "cell_type": "code",
   "execution_count": 20,
   "id": "48a8b096",
   "metadata": {},
   "outputs": [],
   "source": [
    "lm = LogisticRegression(multi_class='multinomial', solver='saga')"
   ]
  },
  {
   "cell_type": "code",
   "execution_count": 21,
   "id": "47a105f6",
   "metadata": {},
   "outputs": [
    {
     "name": "stdout",
     "output_type": "stream",
     "text": [
      "29.61316680908203\n"
     ]
    },
    {
     "name": "stderr",
     "output_type": "stream",
     "text": [
      "/Users/aditigo/miniconda3/lib/python3.10/site-packages/sklearn/linear_model/_sag.py:350: ConvergenceWarning: The max_iter was reached which means the coef_ did not converge\n",
      "  warnings.warn(\n"
     ]
    }
   ],
   "source": [
    "start=time.time()\n",
    "lm_model=lm.fit(X_train,star_train)\n",
    "end=time.time()\n",
    "print(end-start)"
   ]
  },
  {
   "cell_type": "code",
   "execution_count": 22,
   "id": "919c5508",
   "metadata": {},
   "outputs": [
    {
     "name": "stdout",
     "output_type": "stream",
     "text": [
      "0.031584978103637695\n"
     ]
    }
   ],
   "source": [
    "start=time.time()\n",
    "predicted_stars = lm_model.predict(X_test)\n",
    "end=time.time()\n",
    "print(end-start)"
   ]
  },
  {
   "cell_type": "code",
   "execution_count": 23,
   "id": "c7a1d41a",
   "metadata": {},
   "outputs": [],
   "source": [
    "#lm_model.class_count_"
   ]
  },
  {
   "cell_type": "code",
   "execution_count": 24,
   "id": "c745f273",
   "metadata": {},
   "outputs": [
    {
     "name": "stdout",
     "output_type": "stream",
     "text": [
      "              precision    recall  f1-score   support\n",
      "\n",
      "           1       0.70      0.70      0.70      5406\n",
      "           2       0.46      0.25      0.32      4275\n",
      "           3       0.44      0.27      0.34      5991\n",
      "           4       0.48      0.44      0.46     12868\n",
      "           5       0.70      0.87      0.77     21460\n",
      "\n",
      "    accuracy                           0.62     50000\n",
      "   macro avg       0.56      0.51      0.52     50000\n",
      "weighted avg       0.59      0.62      0.59     50000\n",
      "\n"
     ]
    }
   ],
   "source": [
    "print(classification_report(star_test, predicted_stars))"
   ]
  },
  {
   "cell_type": "markdown",
   "id": "479925ea",
   "metadata": {},
   "source": [
    "## KNN"
   ]
  },
  {
   "cell_type": "code",
   "execution_count": 25,
   "id": "0f628e50",
   "metadata": {},
   "outputs": [],
   "source": [
    "knn = KNeighborsClassifier(n_neighbors=10)"
   ]
  },
  {
   "cell_type": "code",
   "execution_count": 26,
   "id": "66ff03de",
   "metadata": {},
   "outputs": [
    {
     "name": "stdout",
     "output_type": "stream",
     "text": [
      "0.05590987205505371\n"
     ]
    }
   ],
   "source": [
    "start=time.time()\n",
    "knn.fit(X_train, star_train)\n",
    "end=time.time()\n",
    "print(end-start)"
   ]
  },
  {
   "cell_type": "code",
   "execution_count": 27,
   "id": "692256b2",
   "metadata": {},
   "outputs": [
    {
     "name": "stdout",
     "output_type": "stream",
     "text": [
      "2519.298425912857\n"
     ]
    }
   ],
   "source": [
    "start=time.time()\n",
    "predicted_stars = knn.predict(X_test)\n",
    "end=time.time()\n",
    "print(end-start)"
   ]
  },
  {
   "cell_type": "code",
   "execution_count": 28,
   "id": "618c91fc",
   "metadata": {},
   "outputs": [],
   "source": [
    "#knn.class_count_"
   ]
  },
  {
   "cell_type": "code",
   "execution_count": 29,
   "id": "6b265893",
   "metadata": {},
   "outputs": [
    {
     "name": "stdout",
     "output_type": "stream",
     "text": [
      "              precision    recall  f1-score   support\n",
      "\n",
      "           1       0.54      0.21      0.31      5406\n",
      "           2       0.26      0.04      0.07      4275\n",
      "           3       0.25      0.06      0.09      5991\n",
      "           4       0.29      0.26      0.28     12868\n",
      "           5       0.50      0.79      0.61     21460\n",
      "\n",
      "    accuracy                           0.44     50000\n",
      "   macro avg       0.37      0.27      0.27     50000\n",
      "weighted avg       0.40      0.44      0.38     50000\n",
      "\n"
     ]
    }
   ],
   "source": [
    "print(classification_report(star_test, predicted_stars))"
   ]
  },
  {
   "cell_type": "markdown",
   "id": "93dd06bf",
   "metadata": {},
   "source": [
    "## Random Forests"
   ]
  },
  {
   "cell_type": "code",
   "execution_count": 30,
   "id": "ee2d3e5f",
   "metadata": {},
   "outputs": [],
   "source": [
    "rf = RandomForestClassifier()"
   ]
  },
  {
   "cell_type": "code",
   "execution_count": 31,
   "id": "496982e0",
   "metadata": {},
   "outputs": [
    {
     "name": "stdout",
     "output_type": "stream",
     "text": [
      "1005.274337053299\n"
     ]
    }
   ],
   "source": [
    "start=time.time()\n",
    "rf_model=rf.fit(X_train, star_train) \n",
    "end=time.time()\n",
    "print(end-start)"
   ]
  },
  {
   "cell_type": "code",
   "execution_count": 32,
   "id": "7665a85c",
   "metadata": {},
   "outputs": [
    {
     "name": "stdout",
     "output_type": "stream",
     "text": [
      "3.1193583011627197\n"
     ]
    }
   ],
   "source": [
    "start=time.time()\n",
    "predicted_stars = rf_model.predict(X_test)\n",
    "end=time.time()\n",
    "print(end-start)"
   ]
  },
  {
   "cell_type": "code",
   "execution_count": 33,
   "id": "6bffedca",
   "metadata": {},
   "outputs": [],
   "source": [
    "#rf_model.class_count_"
   ]
  },
  {
   "cell_type": "code",
   "execution_count": 34,
   "id": "6b785478",
   "metadata": {},
   "outputs": [
    {
     "name": "stdout",
     "output_type": "stream",
     "text": [
      "              precision    recall  f1-score   support\n",
      "\n",
      "           1       0.71      0.54      0.61      5406\n",
      "           2       0.48      0.05      0.09      4275\n",
      "           3       0.44      0.08      0.14      5991\n",
      "           4       0.39      0.29      0.34     12868\n",
      "           5       0.57      0.92      0.71     21460\n",
      "\n",
      "    accuracy                           0.54     50000\n",
      "   macro avg       0.52      0.38      0.38     50000\n",
      "weighted avg       0.52      0.54      0.48     50000\n",
      "\n"
     ]
    }
   ],
   "source": [
    "print(classification_report(star_test, predicted_stars))"
   ]
  }
 ],
 "metadata": {
  "kernelspec": {
   "display_name": "Python 3 (ipykernel)",
   "language": "python",
   "name": "python3"
  },
  "language_info": {
   "codemirror_mode": {
    "name": "ipython",
    "version": 3
   },
   "file_extension": ".py",
   "mimetype": "text/x-python",
   "name": "python",
   "nbconvert_exporter": "python",
   "pygments_lexer": "ipython3",
   "version": "3.10.9"
  }
 },
 "nbformat": 4,
 "nbformat_minor": 5
}
